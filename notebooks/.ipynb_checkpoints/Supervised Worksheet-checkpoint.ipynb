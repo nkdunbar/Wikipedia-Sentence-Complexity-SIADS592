{
 "cells": [
  {
   "cell_type": "code",
   "execution_count": 1,
   "metadata": {},
   "outputs": [],
   "source": [
    "import pandas as pd\n",
    "import numpy as np\n",
    "\n",
    "import operator\n",
    "import random\n",
    "\n",
    "import matplotlib.pyplot as plt\n",
    "import seaborn as sns\n",
    "\n",
    "from sklearn.model_selection import train_test_split\n",
    "from sklearn.svm import LinearSVC\n",
    "from sklearn.naive_bayes import GaussianNB, MultinomialNB\n",
    "from sklearn.ensemble import RandomForestClassifier, AdaBoostClassifier\n",
    "from sklearn.metrics import f1_score\n",
    "\n",
    "from pathlib import Path\n",
    "\n",
    "from tqdm import tqdm"
   ]
  },
  {
   "cell_type": "code",
   "execution_count": 2,
   "metadata": {},
   "outputs": [],
   "source": [
    "training_path = Path().resolve().parents[0] / 'data' / 'clean_training_data.csv'"
   ]
  },
  {
   "cell_type": "code",
   "execution_count": 3,
   "metadata": {},
   "outputs": [],
   "source": [
    "df = pd.read_csv(training_path)"
   ]
  },
  {
   "cell_type": "code",
   "execution_count": 4,
   "metadata": {},
   "outputs": [
    {
     "data": {
      "text/plain": [
       "Index(['Unnamed: 0', 'original_text', 'label', 'text_length',\n",
       "       'complexity_scores', 'token_count', 'stopword_count', 'sum_cs',\n",
       "       'avg_cs'],\n",
       "      dtype='object')"
      ]
     },
     "execution_count": 4,
     "metadata": {},
     "output_type": "execute_result"
    }
   ],
   "source": [
    "df.columns"
   ]
  },
  {
   "cell_type": "code",
   "execution_count": 5,
   "metadata": {},
   "outputs": [],
   "source": [
    "df = df.drop(['Unnamed: 0', 'original_text'], axis=1)\n",
    "df = df.dropna()"
   ]
  },
  {
   "cell_type": "code",
   "execution_count": null,
   "metadata": {},
   "outputs": [],
   "source": []
  },
  {
   "cell_type": "code",
   "execution_count": 6,
   "metadata": {},
   "outputs": [],
   "source": [
    "X_train, X_test, y_train, y_test = train_test_split(\n",
    "    df[['text_length', 'token_count', 'stopword_count', \n",
    "        'sum_cs', 'avg_cs']], df.label, test_size=0.2)"
   ]
  },
  {
   "cell_type": "code",
   "execution_count": 7,
   "metadata": {},
   "outputs": [],
   "source": [
    "F1_score_df = pd.DataFrame(columns = ['model','text_length', 'token_count', 'stopword_count', \n",
    "        'sum_cs', 'avg_cs'])\n",
    "models = ['LinearSVC','GaussianNB','MultinomialNB','RandomForestClassifier','AdaBoostClassifier']\n",
    "F1_score_df['model'] = models"
   ]
  },
  {
   "cell_type": "code",
   "execution_count": 8,
   "metadata": {},
   "outputs": [
    {
     "name": "stderr",
     "output_type": "stream",
     "text": [
      "  0%|          | 0/5 [00:00<?, ?it/s]C:\\Users\\ndunbar\\AppData\\Local\\Continuum\\anaconda3\\lib\\site-packages\\sklearn\\svm\\base.py:929: ConvergenceWarning: Liblinear failed to converge, increase the number of iterations.\n",
      "  \"the number of iterations.\", ConvergenceWarning)\n",
      "C:\\Users\\ndunbar\\AppData\\Local\\Continuum\\anaconda3\\lib\\site-packages\\sklearn\\svm\\base.py:929: ConvergenceWarning: Liblinear failed to converge, increase the number of iterations.\n",
      "  \"the number of iterations.\", ConvergenceWarning)\n",
      "C:\\Users\\ndunbar\\AppData\\Local\\Continuum\\anaconda3\\lib\\site-packages\\sklearn\\svm\\base.py:929: ConvergenceWarning: Liblinear failed to converge, increase the number of iterations.\n",
      "  \"the number of iterations.\", ConvergenceWarning)\n",
      "C:\\Users\\ndunbar\\AppData\\Local\\Continuum\\anaconda3\\lib\\site-packages\\sklearn\\svm\\base.py:929: ConvergenceWarning: Liblinear failed to converge, increase the number of iterations.\n",
      "  \"the number of iterations.\", ConvergenceWarning)\n",
      "C:\\Users\\ndunbar\\AppData\\Local\\Continuum\\anaconda3\\lib\\site-packages\\sklearn\\svm\\base.py:929: ConvergenceWarning: Liblinear failed to converge, increase the number of iterations.\n",
      "  \"the number of iterations.\", ConvergenceWarning)\n",
      " 60%|██████    | 3/5 [06:20<06:12, 186.37s/it]C:\\Users\\ndunbar\\AppData\\Local\\Continuum\\anaconda3\\lib\\site-packages\\sklearn\\ensemble\\forest.py:245: FutureWarning: The default value of n_estimators will change from 10 in version 0.20 to 100 in 0.22.\n",
      "  \"10 in version 0.20 to 100 in 0.22.\", FutureWarning)\n",
      "100%|██████████| 5/5 [07:07<00:00, 85.53s/it] \n",
      "  0%|          | 0/5 [00:00<?, ?it/s]C:\\Users\\ndunbar\\AppData\\Local\\Continuum\\anaconda3\\lib\\site-packages\\sklearn\\svm\\base.py:929: ConvergenceWarning: Liblinear failed to converge, increase the number of iterations.\n",
      "  \"the number of iterations.\", ConvergenceWarning)\n",
      "100%|██████████| 5/5 [01:44<00:00, 20.88s/it]\n"
     ]
    }
   ],
   "source": [
    "SVC = LinearSVC()\n",
    "GNB = GaussianNB()\n",
    "MNB = MultinomialNB()\n",
    "RFC = RandomForestClassifier()\n",
    "ABC = AdaBoostClassifier()\n",
    "\n",
    "trainers = [SVC, GNB, MNB, RFC, ABC]\n",
    "features = ['text_length','token_count','stopword_count','sum_cs','avg_cs']\n",
    "\n",
    "index_count=0\n",
    "\n",
    "for trainer in tqdm(trainers):\n",
    "    for feature in features:\n",
    "        trainer.fit(X_train[feature].values.reshape(-1,1), y_train)\n",
    "        predictions = trainer.predict(X_test[feature].values.reshape(-1,1))\n",
    "        F1_score_df.at[index_count,feature] = f1_score(y_test, predictions)\n",
    "        #print(index_count, feature, f1_score(y_test, predictions))\n",
    "    index_count+=1\n",
    "    \n",
    "\n",
    "index_count = 0    \n",
    "for trainer in tqdm(trainers):\n",
    "    trainer.fit(X_train, y_train)\n",
    "    predictions = trainer.predict(X_test)\n",
    "    F1_score_df.at[index_count,'all'] = f1_score(y_test, predictions)\n",
    "    index_count+=1\n"
   ]
  },
  {
   "cell_type": "code",
   "execution_count": 9,
   "metadata": {},
   "outputs": [
    {
     "data": {
      "text/html": [
       "<div>\n",
       "<style scoped>\n",
       "    .dataframe tbody tr th:only-of-type {\n",
       "        vertical-align: middle;\n",
       "    }\n",
       "\n",
       "    .dataframe tbody tr th {\n",
       "        vertical-align: top;\n",
       "    }\n",
       "\n",
       "    .dataframe thead th {\n",
       "        text-align: right;\n",
       "    }\n",
       "</style>\n",
       "<table border=\"1\" class=\"dataframe\">\n",
       "  <thead>\n",
       "    <tr style=\"text-align: right;\">\n",
       "      <th></th>\n",
       "      <th>model</th>\n",
       "      <th>text_length</th>\n",
       "      <th>token_count</th>\n",
       "      <th>stopword_count</th>\n",
       "      <th>sum_cs</th>\n",
       "      <th>avg_cs</th>\n",
       "      <th>all</th>\n",
       "    </tr>\n",
       "  </thead>\n",
       "  <tbody>\n",
       "    <tr>\n",
       "      <td>0</td>\n",
       "      <td>LinearSVC</td>\n",
       "      <td>0.345473</td>\n",
       "      <td>0.620011</td>\n",
       "      <td>0.550464</td>\n",
       "      <td>0.67341</td>\n",
       "      <td>0.667378</td>\n",
       "      <td>0.001009</td>\n",
       "    </tr>\n",
       "    <tr>\n",
       "      <td>1</td>\n",
       "      <td>GaussianNB</td>\n",
       "      <td>0.527426</td>\n",
       "      <td>0.514891</td>\n",
       "      <td>0.511717</td>\n",
       "      <td>0.491069</td>\n",
       "      <td>0.634302</td>\n",
       "      <td>0.542920</td>\n",
       "    </tr>\n",
       "    <tr>\n",
       "      <td>2</td>\n",
       "      <td>MultinomialNB</td>\n",
       "      <td>0.667378</td>\n",
       "      <td>0.667378</td>\n",
       "      <td>0.667378</td>\n",
       "      <td>0.667378</td>\n",
       "      <td>0.667378</td>\n",
       "      <td>0.593224</td>\n",
       "    </tr>\n",
       "    <tr>\n",
       "      <td>3</td>\n",
       "      <td>RandomForestClassifier</td>\n",
       "      <td>0.659501</td>\n",
       "      <td>0.619978</td>\n",
       "      <td>0.663055</td>\n",
       "      <td>0.619196</td>\n",
       "      <td>0.567369</td>\n",
       "      <td>0.615517</td>\n",
       "    </tr>\n",
       "    <tr>\n",
       "      <td>4</td>\n",
       "      <td>AdaBoostClassifier</td>\n",
       "      <td>0.659501</td>\n",
       "      <td>0.620011</td>\n",
       "      <td>0.663068</td>\n",
       "      <td>0.598456</td>\n",
       "      <td>0.634175</td>\n",
       "      <td>0.634751</td>\n",
       "    </tr>\n",
       "  </tbody>\n",
       "</table>\n",
       "</div>"
      ],
      "text/plain": [
       "                    model text_length token_count stopword_count    sum_cs  \\\n",
       "0               LinearSVC    0.345473    0.620011       0.550464   0.67341   \n",
       "1              GaussianNB    0.527426    0.514891       0.511717  0.491069   \n",
       "2           MultinomialNB    0.667378    0.667378       0.667378  0.667378   \n",
       "3  RandomForestClassifier    0.659501    0.619978       0.663055  0.619196   \n",
       "4      AdaBoostClassifier    0.659501    0.620011       0.663068  0.598456   \n",
       "\n",
       "     avg_cs       all  \n",
       "0  0.667378  0.001009  \n",
       "1  0.634302  0.542920  \n",
       "2  0.667378  0.593224  \n",
       "3  0.567369  0.615517  \n",
       "4  0.634175  0.634751  "
      ]
     },
     "execution_count": 9,
     "metadata": {},
     "output_type": "execute_result"
    }
   ],
   "source": [
    "F1_score_df"
   ]
  },
  {
   "cell_type": "code",
   "execution_count": null,
   "metadata": {},
   "outputs": [],
   "source": []
  }
 ],
 "metadata": {
  "kernelspec": {
   "display_name": "Python 3",
   "language": "python",
   "name": "python3"
  },
  "language_info": {
   "codemirror_mode": {
    "name": "ipython",
    "version": 3
   },
   "file_extension": ".py",
   "mimetype": "text/x-python",
   "name": "python",
   "nbconvert_exporter": "python",
   "pygments_lexer": "ipython3",
   "version": "3.7.4"
  }
 },
 "nbformat": 4,
 "nbformat_minor": 5
}
